{
  "nbformat": 4,
  "nbformat_minor": 0,
  "metadata": {
    "colab": {
      "name": "reddit_corpus_training.ipynb",
      "provenance": [],
      "collapsed_sections": [],
      "toc_visible": true,
      "authorship_tag": "ABX9TyNBn8g/X9kS1t8K+M/jbL7I",
      "include_colab_link": true
    },
    "kernelspec": {
      "name": "python3",
      "display_name": "Python 3"
    }
  },
  "cells": [
    {
      "cell_type": "markdown",
      "metadata": {
        "id": "view-in-github",
        "colab_type": "text"
      },
      "source": [
        "<a href=\"https://colab.research.google.com/github/andrewldesousa/reddit4nlp/blob/main/nlp/notebooks/reddit_corpus_training.ipynb\" target=\"_parent\"><img src=\"https://colab.research.google.com/assets/colab-badge.svg\" alt=\"Open In Colab\"/></a>"
      ]
    },
    {
      "cell_type": "code",
      "metadata": {
        "id": "V4Gv9dZigV2j"
      },
      "source": [
        "!wget https://repo.anaconda.com/archive/Anaconda3-5.2.0-Linux-x86_64.sh && bash Anaconda3-5.2.0-Linux-x86_64.sh -bfp /usr/local\n",
        "import sys\n",
        "\n",
        "sys.path.insert(0, \"/usr/local/lib/python3.6/site-packages/\")"
      ],
      "execution_count": null,
      "outputs": []
    },
    {
      "cell_type": "code",
      "metadata": {
        "id": "y4peWkKVhC98"
      },
      "source": [
        "!pip install fastai\n",
        "!pip install nbdev"
      ],
      "execution_count": null,
      "outputs": []
    },
    {
      "cell_type": "code",
      "metadata": {
        "id": "XO6yNS-LhNvr"
      },
      "source": [
        "%matplotlib inline\n",
        "from fastai.text import *\n",
        "from nbdev.showdoc import *"
      ],
      "execution_count": null,
      "outputs": []
    },
    {
      "cell_type": "code",
      "metadata": {
        "colab": {
          "base_uri": "https://localhost:8080/"
        },
        "id": "l8c7wgrfhObM",
        "outputId": "53b190b5-bd55-483a-fa1a-1edac6991dcb"
      },
      "source": [
        ""
      ],
      "execution_count": null,
      "outputs": [
        {
          "output_type": "stream",
          "text": [
            "Collecting nbdev\n",
            "\u001b[?25l  Downloading https://files.pythonhosted.org/packages/4b/c5/a02d58ef8c2a75baf3bb873aecff8690d4b9d12c2b23e786dce09ef93f86/nbdev-1.1.5-py3-none-any.whl (47kB)\n",
            "\r\u001b[K     |██████▉                         | 10kB 17.0MB/s eta 0:00:01\r\u001b[K     |█████████████▊                  | 20kB 13.1MB/s eta 0:00:01\r\u001b[K     |████████████████████▋           | 30kB 10.0MB/s eta 0:00:01\r\u001b[K     |███████████████████████████▌    | 40kB 7.3MB/s eta 0:00:01\r\u001b[K     |████████████████████████████████| 51kB 2.7MB/s \n",
            "\u001b[?25hRequirement already satisfied: pip in /usr/local/lib/python3.6/dist-packages (from nbdev) (19.3.1)\n",
            "Collecting fastcore>=1.3.1\n",
            "\u001b[?25l  Downloading https://files.pythonhosted.org/packages/5c/ad/7c358331783cf8220e1bd0cca52df3e6092b3f6d4ce5b837fffbc9a64c53/fastcore-1.3.12-py3-none-any.whl (51kB)\n",
            "\u001b[K     |████████████████████████████████| 61kB 5.0MB/s \n",
            "\u001b[?25hRequirement already satisfied: nbconvert<6 in /usr/local/lib/python3.6/dist-packages (from nbdev) (5.6.1)\n",
            "Requirement already satisfied: packaging in /usr/local/lib/python3.6/dist-packages (from nbdev) (20.7)\n",
            "Requirement already satisfied: pyyaml in /usr/local/lib/python3.6/dist-packages (from nbdev) (3.13)\n",
            "Requirement already satisfied: nbformat>=4.4.0 in /usr/local/lib/python3.6/dist-packages (from nbdev) (5.0.8)\n",
            "Requirement already satisfied: jupyter-client in /usr/local/lib/python3.6/dist-packages (from nbdev) (5.3.5)\n",
            "Requirement already satisfied: ipykernel in /usr/local/lib/python3.6/dist-packages (from nbdev) (4.10.1)\n",
            "Requirement already satisfied: entrypoints>=0.2.2 in /usr/local/lib/python3.6/dist-packages (from nbconvert<6->nbdev) (0.3)\n",
            "Requirement already satisfied: traitlets>=4.2 in /usr/local/lib/python3.6/dist-packages (from nbconvert<6->nbdev) (4.3.3)\n",
            "Requirement already satisfied: jinja2>=2.4 in /usr/local/lib/python3.6/dist-packages (from nbconvert<6->nbdev) (2.11.2)\n",
            "Requirement already satisfied: pygments in /usr/local/lib/python3.6/dist-packages (from nbconvert<6->nbdev) (2.6.1)\n",
            "Requirement already satisfied: bleach in /usr/local/lib/python3.6/dist-packages (from nbconvert<6->nbdev) (3.2.1)\n",
            "Requirement already satisfied: pandocfilters>=1.4.1 in /usr/local/lib/python3.6/dist-packages (from nbconvert<6->nbdev) (1.4.3)\n",
            "Requirement already satisfied: mistune<2,>=0.8.1 in /usr/local/lib/python3.6/dist-packages (from nbconvert<6->nbdev) (0.8.4)\n",
            "Requirement already satisfied: testpath in /usr/local/lib/python3.6/dist-packages (from nbconvert<6->nbdev) (0.4.4)\n",
            "Requirement already satisfied: defusedxml in /usr/local/lib/python3.6/dist-packages (from nbconvert<6->nbdev) (0.6.0)\n",
            "Requirement already satisfied: jupyter-core in /usr/local/lib/python3.6/dist-packages (from nbconvert<6->nbdev) (4.7.0)\n",
            "Requirement already satisfied: pyparsing>=2.0.2 in /usr/local/lib/python3.6/dist-packages (from packaging->nbdev) (2.4.7)\n",
            "Requirement already satisfied: ipython-genutils in /usr/local/lib/python3.6/dist-packages (from nbformat>=4.4.0->nbdev) (0.2.0)\n",
            "Requirement already satisfied: jsonschema!=2.5.0,>=2.4 in /usr/local/lib/python3.6/dist-packages (from nbformat>=4.4.0->nbdev) (2.6.0)\n",
            "Requirement already satisfied: pyzmq>=13 in /usr/local/lib/python3.6/dist-packages (from jupyter-client->nbdev) (20.0.0)\n",
            "Requirement already satisfied: python-dateutil>=2.1 in /usr/local/lib/python3.6/dist-packages (from jupyter-client->nbdev) (2.8.1)\n",
            "Requirement already satisfied: tornado>=4.1 in /usr/local/lib/python3.6/dist-packages (from jupyter-client->nbdev) (5.1.1)\n",
            "Requirement already satisfied: ipython>=4.0.0 in /usr/local/lib/python3.6/dist-packages (from ipykernel->nbdev) (5.5.0)\n",
            "Requirement already satisfied: six in /usr/local/lib/python3.6/dist-packages (from traitlets>=4.2->nbconvert<6->nbdev) (1.15.0)\n",
            "Requirement already satisfied: decorator in /usr/local/lib/python3.6/dist-packages (from traitlets>=4.2->nbconvert<6->nbdev) (4.4.2)\n",
            "Requirement already satisfied: MarkupSafe>=0.23 in /usr/local/lib/python3.6/dist-packages (from jinja2>=2.4->nbconvert<6->nbdev) (1.1.1)\n",
            "Requirement already satisfied: webencodings in /usr/local/lib/python3.6/dist-packages (from bleach->nbconvert<6->nbdev) (0.5.1)\n",
            "Requirement already satisfied: pexpect; sys_platform != \"win32\" in /usr/local/lib/python3.6/dist-packages (from ipython>=4.0.0->ipykernel->nbdev) (4.8.0)\n",
            "Requirement already satisfied: pickleshare in /usr/local/lib/python3.6/dist-packages (from ipython>=4.0.0->ipykernel->nbdev) (0.7.5)\n",
            "Requirement already satisfied: simplegeneric>0.8 in /usr/local/lib/python3.6/dist-packages (from ipython>=4.0.0->ipykernel->nbdev) (0.8.1)\n",
            "Requirement already satisfied: setuptools>=18.5 in /usr/local/lib/python3.6/dist-packages (from ipython>=4.0.0->ipykernel->nbdev) (50.3.2)\n",
            "Requirement already satisfied: prompt-toolkit<2.0.0,>=1.0.4 in /usr/local/lib/python3.6/dist-packages (from ipython>=4.0.0->ipykernel->nbdev) (1.0.18)\n",
            "Requirement already satisfied: ptyprocess>=0.5 in /usr/local/lib/python3.6/dist-packages (from pexpect; sys_platform != \"win32\"->ipython>=4.0.0->ipykernel->nbdev) (0.6.0)\n",
            "Requirement already satisfied: wcwidth in /usr/local/lib/python3.6/dist-packages (from prompt-toolkit<2.0.0,>=1.0.4->ipython>=4.0.0->ipykernel->nbdev) (0.2.5)\n",
            "Installing collected packages: fastcore, nbdev\n",
            "Successfully installed fastcore-1.3.12 nbdev-1.1.5\n"
          ],
          "name": "stdout"
        }
      ]
    },
    {
      "cell_type": "code",
      "metadata": {
        "colab": {
          "base_uri": "https://localhost:8080/",
          "height": 35
        },
        "id": "9T6yCz6shOz3",
        "outputId": "7aef9304-b4fc-4d89-8041-4b262fb372af"
      },
      "source": [
        "import os\n",
        "from pathlib import Path\n",
        "\n",
        "data_path = '/content/reddit.db'\n",
        "data_path"
      ],
      "execution_count": null,
      "outputs": [
        {
          "output_type": "execute_result",
          "data": {
            "application/vnd.google.colaboratory.intrinsic+json": {
              "type": "string"
            },
            "text/plain": [
              "'/content/reddit.db'"
            ]
          },
          "metadata": {
            "tags": []
          },
          "execution_count": 23
        }
      ]
    },
    {
      "cell_type": "code",
      "metadata": {
        "colab": {
          "base_uri": "https://localhost:8080/",
          "height": 419
        },
        "id": "bim-G2Gwjkqi",
        "outputId": "dbd7a006-45ae-4356-88cd-ee671f04e416"
      },
      "source": [
        "import sqlite3\n",
        "import pandas as pd\n",
        "\n",
        "cnx = sqlite3.connect(data_path)\n",
        "df = pd.read_sql_query(\"SELECT * FROM post\", cnx)\n",
        "df = df.loc[df['body'].str.len() > 100]\n",
        "df"
      ],
      "execution_count": null,
      "outputs": [
        {
          "output_type": "execute_result",
          "data": {
            "text/html": [
              "<div>\n",
              "<style scoped>\n",
              "    .dataframe tbody tr th:only-of-type {\n",
              "        vertical-align: middle;\n",
              "    }\n",
              "\n",
              "    .dataframe tbody tr th {\n",
              "        vertical-align: top;\n",
              "    }\n",
              "\n",
              "    .dataframe thead th {\n",
              "        text-align: right;\n",
              "    }\n",
              "</style>\n",
              "<table border=\"1\" class=\"dataframe\">\n",
              "  <thead>\n",
              "    <tr style=\"text-align: right;\">\n",
              "      <th></th>\n",
              "      <th>id</th>\n",
              "      <th>title</th>\n",
              "      <th>body</th>\n",
              "      <th>author_name</th>\n",
              "      <th>score</th>\n",
              "      <th>upvote_ratio</th>\n",
              "      <th>has_full_body</th>\n",
              "      <th>subreddit</th>\n",
              "    </tr>\n",
              "  </thead>\n",
              "  <tbody>\n",
              "    <tr>\n",
              "      <th>0</th>\n",
              "      <td>jptq5n</td>\n",
              "      <td>Megathread: Joe Biden Projected to Defeat Pres...</td>\n",
              "      <td>Former Vice President Joseph Biden has secured...</td>\n",
              "      <td>PoliticsModeratorBot</td>\n",
              "      <td>210165</td>\n",
              "      <td>0.86</td>\n",
              "      <td>0</td>\n",
              "      <td>t5_2cneq</td>\n",
              "    </tr>\n",
              "    <tr>\n",
              "      <th>2</th>\n",
              "      <td>ecm1zg</td>\n",
              "      <td>Megathread: House Votes to Impeach President D...</td>\n",
              "      <td>The United States House of Representatives has...</td>\n",
              "      <td>PoliticsModeratorBot</td>\n",
              "      <td>147742</td>\n",
              "      <td>0.89</td>\n",
              "      <td>0</td>\n",
              "      <td>t5_2cneq</td>\n",
              "    </tr>\n",
              "    <tr>\n",
              "      <th>23</th>\n",
              "      <td>j3oozc</td>\n",
              "      <td>Megathread: President Donald Trump announces h...</td>\n",
              "      <td>President Donald Trump announced he and First ...</td>\n",
              "      <td>PoliticsModeratorBot</td>\n",
              "      <td>102627</td>\n",
              "      <td>0.92</td>\n",
              "      <td>0</td>\n",
              "      <td>t5_2cneq</td>\n",
              "    </tr>\n",
              "    <tr>\n",
              "      <th>29</th>\n",
              "      <td>j0zphm</td>\n",
              "      <td>Megathread: Long-Concealed Records Show Presid...</td>\n",
              "      <td>President Donald Trump paid just $750 in feder...</td>\n",
              "      <td>PoliticsModeratorBot</td>\n",
              "      <td>101179</td>\n",
              "      <td>0.89</td>\n",
              "      <td>0</td>\n",
              "      <td>t5_2cneq</td>\n",
              "    </tr>\n",
              "    <tr>\n",
              "      <th>96</th>\n",
              "      <td>ipk2w9</td>\n",
              "      <td>Megathread: Trump says he deliberately played ...</td>\n",
              "      <td>President Donald Trump admitted that he wanted...</td>\n",
              "      <td>PoliticsModeratorBot</td>\n",
              "      <td>88049</td>\n",
              "      <td>0.88</td>\n",
              "      <td>0</td>\n",
              "      <td>t5_2cneq</td>\n",
              "    </tr>\n",
              "    <tr>\n",
              "      <th>...</th>\n",
              "      <td>...</td>\n",
              "      <td>...</td>\n",
              "      <td>...</td>\n",
              "      <td>...</td>\n",
              "      <td>...</td>\n",
              "      <td>...</td>\n",
              "      <td>...</td>\n",
              "      <td>...</td>\n",
              "    </tr>\n",
              "    <tr>\n",
              "      <th>14168</th>\n",
              "      <td>94l5pa</td>\n",
              "      <td>Vaginas contain lactobacillus, which are neede...</td>\n",
              "      <td>Sorry for the stupid question, but I couldn't ...</td>\n",
              "      <td>UndercoverDoll49</td>\n",
              "      <td>5794</td>\n",
              "      <td>0.85</td>\n",
              "      <td>0</td>\n",
              "      <td>t5_2qm4e</td>\n",
              "    </tr>\n",
              "    <tr>\n",
              "      <th>14171</th>\n",
              "      <td>i4iedt</td>\n",
              "      <td>If space is expanding, are more units of space...</td>\n",
              "      <td>My knowledge of quantum field theory is very t...</td>\n",
              "      <td>sarapsys</td>\n",
              "      <td>5783</td>\n",
              "      <td>0.93</td>\n",
              "      <td>0</td>\n",
              "      <td>t5_2qm4e</td>\n",
              "    </tr>\n",
              "    <tr>\n",
              "      <th>14172</th>\n",
              "      <td>713bvh</td>\n",
              "      <td>Why aren't there any orbitals after s, p, d an...</td>\n",
              "      <td>After Element 60 I noticed that there weren't ...</td>\n",
              "      <td>wolfgertripathi</td>\n",
              "      <td>5781</td>\n",
              "      <td>0.88</td>\n",
              "      <td>0</td>\n",
              "      <td>t5_2qm4e</td>\n",
              "    </tr>\n",
              "    <tr>\n",
              "      <th>14173</th>\n",
              "      <td>54wbui</td>\n",
              "      <td>Why do we keep trying to find new heavy elemen...</td>\n",
              "      <td>Would these super-heavy elements have some use...</td>\n",
              "      <td>XxCjkavyxX</td>\n",
              "      <td>5782</td>\n",
              "      <td>0.90</td>\n",
              "      <td>0</td>\n",
              "      <td>t5_2qm4e</td>\n",
              "    </tr>\n",
              "    <tr>\n",
              "      <th>14174</th>\n",
              "      <td>7ydt02</td>\n",
              "      <td>Does a Mayfly, which only lives a day, evolve ...</td>\n",
              "      <td>This might be really stupid but to me it makes...</td>\n",
              "      <td>Splattface</td>\n",
              "      <td>5776</td>\n",
              "      <td>0.86</td>\n",
              "      <td>0</td>\n",
              "      <td>t5_2qm4e</td>\n",
              "    </tr>\n",
              "  </tbody>\n",
              "</table>\n",
              "<p>5513 rows × 8 columns</p>\n",
              "</div>"
            ],
            "text/plain": [
              "           id  ... subreddit\n",
              "0      jptq5n  ...  t5_2cneq\n",
              "2      ecm1zg  ...  t5_2cneq\n",
              "23     j3oozc  ...  t5_2cneq\n",
              "29     j0zphm  ...  t5_2cneq\n",
              "96     ipk2w9  ...  t5_2cneq\n",
              "...       ...  ...       ...\n",
              "14168  94l5pa  ...  t5_2qm4e\n",
              "14171  i4iedt  ...  t5_2qm4e\n",
              "14172  713bvh  ...  t5_2qm4e\n",
              "14173  54wbui  ...  t5_2qm4e\n",
              "14174  7ydt02  ...  t5_2qm4e\n",
              "\n",
              "[5513 rows x 8 columns]"
            ]
          },
          "metadata": {
            "tags": []
          },
          "execution_count": 36
        }
      ]
    },
    {
      "cell_type": "code",
      "metadata": {
        "id": "iN1sDR0rjSmj"
      },
      "source": [
        "dbunch_lm = TextDataLoaders.from_df(df, text_col='body', label_col='subreddit', path=data_path, is_lm=True, valid_col='is_valid')"
      ],
      "execution_count": null,
      "outputs": []
    },
    {
      "cell_type": "code",
      "metadata": {
        "colab": {
          "base_uri": "https://localhost:8080/"
        },
        "id": "7Edl5QkdjSb1",
        "outputId": "bde70447-721b-4e95-d161-e81ac32fbe16"
      },
      "source": [
        "from fastai import __version__"
      ],
      "execution_count": null,
      "outputs": [
        {
          "output_type": "stream",
          "text": [
            "1.0.61\n"
          ],
          "name": "stdout"
        }
      ]
    },
    {
      "cell_type": "code",
      "metadata": {
        "id": "_1PT3JCnjSSQ"
      },
      "source": [
        "from fastai.text.data import TextB"
      ],
      "execution_count": null,
      "outputs": []
    },
    {
      "cell_type": "code",
      "metadata": {
        "id": "Rok1yZIOjcjP"
      },
      "source": [
        ""
      ],
      "execution_count": null,
      "outputs": []
    },
    {
      "cell_type": "code",
      "metadata": {
        "id": "LruXkPHjjcGf"
      },
      "source": [
        ""
      ],
      "execution_count": null,
      "outputs": []
    }
  ]
}